{
 "cells": [
  {
   "cell_type": "markdown",
   "metadata": {},
   "source": [
    "# Question 4"
   ]
  },
  {
   "cell_type": "code",
   "execution_count": 3,
   "metadata": {
    "collapsed": false
   },
   "outputs": [
    {
     "name": "stdout",
     "output_type": "stream",
     "text": [
      "132\n"
     ]
    }
   ],
   "source": [
    "#Count for User121\n",
    "import nltk\n",
    "file_id=nltk.corpus.nps_chat.fileids()\n",
    "file_id\n",
    "count=0\n",
    "word_list=[]\n",
    "from xml.etree import cElementTree as ET\n",
    "for id in file_id:\n",
    "    chat = nltk.corpus.nps_chat.raw(id)\n",
    "    my_xml = ET.fromstring(chat)\n",
    "    for child in my_xml.iter('Post'):\n",
    "        word_list.append(child.get('user'))\n",
    "npschat_word_set=set()\n",
    "for user in word_list:\n",
    "    if 'User121'in user:\n",
    "        count+=1\n",
    "print(count)"
   ]
  },
  {
   "cell_type": "code",
   "execution_count": 21,
   "metadata": {
    "collapsed": false
   },
   "outputs": [
    {
     "name": "stdout",
     "output_type": "stream",
     "text": [
      "{'20s': {'User21', 'User5', 'User164', 'User82', 'User170', 'User102', 'User113', 'User54', 'User177', 'User114', 'User129', 'User17', 'User147', 'User2', 'User81', 'User160', 'User69', 'User159', 'User0', 'User42', 'User9', 'User56', 'User31', 'User123', 'User72', 'User66', 'User58', 'User95', 'User76', 'User12', 'User43', 'User38', 'User180', 'User100', 'User174', 'User92', 'User44', 'User11', 'User24', 'User33', 'User155', 'User91', 'User127', 'User3', 'User161', 'User47', 'User165', 'User136', 'User145', 'User111', 'User166', 'User163', 'User171', 'User60', 'User68', 'User88', 'User175', 'User117', 'User40', 'User150', 'User116', 'User157', 'User96', 'User121', 'User53', 'User176', 'User151', 'User14', 'User168', 'User179', 'User10', 'User135', 'User63', 'User52', 'User119', 'User59', 'User106', 'User57', 'User134', 'User139', 'User107', 'User110', 'User87', 'User79', 'User152', 'User125', 'User6', 'User158', 'User94', 'User62', 'User143', 'User28', 'User84', 'User178', 'User15', 'User46', 'User133', 'User51', 'User70', 'User148', 'User115', 'User141', 'User131', 'User162', 'User138', 'User18', 'User41', 'User19', 'User172', 'User156', 'User104', 'User137', 'User140', 'User130', 'User23', 'User37', 'User126', 'User13', 'User112', 'User30', 'User67', 'User89', 'User105', 'User154', 'User7', 'User169', 'User77', 'User128', 'User132', 'User1', 'User124', 'User34', 'User83', 'User32', 'User49', 'User74', 'User142', 'User173', 'User149', 'User8', 'User120', 'User29', 'User73', 'User153', 'User65', 'User108', 'User64', 'User146', 'User20', 'User27', 'User80', 'User103', 'User109', 'User144', 'User167', 'User90', 'User35', 'User55', 'User50', 'User16', 'User122', 'User101'}, '40s': {'User28', 'User60', 'User78', 'User36', 'User21', 'User4', 'User7', 'User5', 'User68', 'User71', 'User1', 'User34', 'User46', 'User77', 'User40', 'User54', 'User17', 'User32', 'User2', 'User49', 'User51', 'User70', 'User74', 'User75', 'User69', 'User0', 'User42', 'User8', 'User9', 'User53', 'User56', 'User31', 'User29', 'User22', 'User14', 'User72', 'User66', 'User58', 'User18', 'User73', 'User48', 'User12', 'User61', 'User6', 'User76', 'User43', 'User41', 'User10', 'User19', 'User65', 'User38', 'User52', 'User63', 'User59', 'User27', 'User11', 'User20', 'User44', 'User25', 'User57', 'User64', 'User24', 'User33', 'User37', 'User23', 'User39', 'User3', 'User47', 'User26', 'User13', 'User45', 'User30', 'User15', 'User35', 'User79', 'User67', 'User55', 'User50', 'User16', 'User62'}, '30s': {'User28', 'User15', 'User7', 'User4', 'User21', 'User36', 'User5', 'User34', 'User40', 'User17', 'User32', 'User2', 'User42', 'User0', 'User8', 'User9', 'User31', 'User29', 'User22', 'User14', 'User18', 'User12', 'User43', 'User10', 'User41', 'User19', 'User38', 'User27', 'User11', 'User20', 'User44', 'User25', 'User24', 'User33', 'User23', 'User37', 'User39', 'User3', 'User26', 'User13', 'User45', 'User30', 'User35', 'User16'}}\n",
      "20s 162\n",
      "40s 80\n",
      "30s 44\n"
     ]
    }
   ],
   "source": [
    "import nltk\n",
    "file_id=nltk.corpus.nps_chat.fileids()\n",
    "age=['20s','30s','40s']\n",
    "ageFiles={}\n",
    "for ages in age:\n",
    "    for id in file_id:\n",
    "        if ages in id:\n",
    "            if ages not in ageFiles.keys():\n",
    "                ageFiles.setdefault(ages, [])\n",
    "                ageFiles[ages].append(id)\n",
    "            else:\n",
    "                ageFiles[ages].append(id)\n",
    "                \n",
    "age_dict={}\n",
    "\n",
    "for key, value in ageFiles.items():\n",
    "    users=set()\n",
    "    for file_list in value:\n",
    "        chat = nltk.corpus.nps_chat.raw(file_list)\n",
    "        my_xml = ET.fromstring(chat)\n",
    "        for child in my_xml.iter('Post'):\n",
    "            users.add(child.get('user')[9:])\n",
    "    age_dict[key]=users\n",
    "print(age_dict)\n",
    "for k,v in age_dict.items():\n",
    "    print(k, len(v))\n",
    "    \n",
    "        \n",
    "\n",
    "\n",
    "    \n"
   ]
  }
 ],
 "metadata": {
  "kernelspec": {
   "display_name": "Python [conda root]",
   "language": "python",
   "name": "conda-root-py"
  },
  "language_info": {
   "codemirror_mode": {
    "name": "ipython",
    "version": 3
   },
   "file_extension": ".py",
   "mimetype": "text/x-python",
   "name": "python",
   "nbconvert_exporter": "python",
   "pygments_lexer": "ipython3",
   "version": "3.5.2"
  }
 },
 "nbformat": 4,
 "nbformat_minor": 1
}
