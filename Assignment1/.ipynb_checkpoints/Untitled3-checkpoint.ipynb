{
 "cells": [
  {
   "cell_type": "markdown",
   "metadata": {
    "collapsed": true
   },
   "source": [
    "# Question 7"
   ]
  },
  {
   "cell_type": "code",
   "execution_count": 52,
   "metadata": {
    "collapsed": false
   },
   "outputs": [
    {
     "name": "stdout",
     "output_type": "stream",
     "text": [
      "{'f': {'female': 4, 'male': 96}, 'k': {'female': 3, 'male': 97}, 'j': {'female': 0, 'male': 100}, 'b': {'female': 29, 'male': 71}, 'c': {'female': 0, 'male': 100}, 'u': {'female': 31, 'male': 69}, 'g': {'female': 22, 'male': 78}, 'w': {'female': 20, 'male': 80}, 'd': {'female': 14, 'male': 86}, 'n': {'female': 45, 'male': 55}, 'h': {'female': 53, 'male': 47}, 'l': {'female': 49, 'male': 51}, 'p': {'female': 6, 'male': 94}, 'r': {'female': 20, 'male': 80}, 'e': {'female': 75, 'male': 25}, 'a': {'female': 98, 'male': 2}, 'x': {'female': 50, 'male': 50}, 'm': {'female': 15, 'male': 85}, 'i': {'female': 87, 'male': 13}, 'v': {'female': 6, 'male': 94}, 'o': {'female': 16, 'male': 84}, 'z': {'female': 23, 'male': 77}, 't': {'female': 29, 'male': 71}, 'y': {'female': 58, 'male': 42}, 's': {'female': 29, 'male': 71}}\n"
     ]
    }
   ],
   "source": [
    "import nltk\n",
    "from nltk.corpus import names\n",
    "female_names=nltk.corpus.names.words('female.txt')\n",
    "male_names=nltk.corpus.names.words('male.txt')\n",
    "alphabets='abcdefghijklmnopqrstuvwxyz'\n",
    "femaleAlphabetDict={}\n",
    "maleAlphabetDict={}\n",
    "totalPercentageCount={}\n",
    "for alpha in alphabets:\n",
    "    for female in female_names:\n",
    "        if female.endswith(alpha):\n",
    "            if alpha in femaleAlphabetDict.keys():\n",
    "                femaleAlphabetDict[alpha] = femaleAlphabetDict[alpha] + 1\n",
    "            else:\n",
    "                femaleAlphabetDict[alpha]=0\n",
    "    for male in male_names:\n",
    "        if male.endswith(alpha):\n",
    "            if alpha in maleAlphabetDict.keys():\n",
    "                maleAlphabetDict[alpha] = maleAlphabetDict.get(alpha, 0) + 1\n",
    "            else:\n",
    "                maleAlphabetDict[alpha]=0\n",
    "for nalpha in alphabets:\n",
    "    if nalpha not in femaleAlphabetDict.keys():\n",
    "        femaleAlphabetDict[nalpha]=0\n",
    "    if nalpha not in maleAlphabetDict.keys():\n",
    "        maleAlphabetDict[nalpha]=0\n",
    "\n",
    "for alp in alphabets:\n",
    "    totalCount=femaleAlphabetDict[alp]+maleAlphabetDict[alp];\n",
    "    if totalCount!=0:\n",
    "        malePercent=round((100*maleAlphabetDict[alp])/totalCount)\n",
    "        femalePercent=round((100*femaleAlphabetDict[alp])/totalCount)\n",
    "        percentDict={}\n",
    "        percentDict['male']=malePercent\n",
    "        percentDict['female']=femalePercent\n",
    "        totalPercentageCount[alp]=percentDict\n",
    "print(totalPercentageCount)\n",
    "                \n",
    "\n",
    "    \n",
    "\n",
    "    \n",
    "\n",
    "    \n",
    "                \n",
    "                \n",
    "                \n",
    "            "
   ]
  }
 ],
 "metadata": {
  "anaconda-cloud": {},
  "kernelspec": {
   "display_name": "Python [conda root]",
   "language": "python",
   "name": "conda-root-py"
  },
  "language_info": {
   "codemirror_mode": {
    "name": "ipython",
    "version": 3
   },
   "file_extension": ".py",
   "mimetype": "text/x-python",
   "name": "python",
   "nbconvert_exporter": "python",
   "pygments_lexer": "ipython3",
   "version": "3.5.2"
  }
 },
 "nbformat": 4,
 "nbformat_minor": 1
}
