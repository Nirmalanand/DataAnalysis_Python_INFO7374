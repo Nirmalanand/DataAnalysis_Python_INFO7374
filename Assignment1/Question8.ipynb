{
 "cells": [
  {
   "cell_type": "markdown",
   "metadata": {
    "collapsed": false
   },
   "source": [
    "# Question 8\n",
    "  "
   ]
  },
  {
   "cell_type": "code",
   "execution_count": 97,
   "metadata": {
    "collapsed": false
   },
   "outputs": [
    {
     "name": "stdout",
     "output_type": "stream",
     "text": [
      "5274\n"
     ]
    }
   ],
   "source": [
    "#Words from nps_chat excluding the ones containing User\n",
    "file_id=nltk.corpus.nps_chat.fileids()\n",
    "file_id\n",
    "word_list=[]\n",
    "from xml.etree import cElementTree as ET\n",
    "for id in file_id:\n",
    "    chat = nltk.corpus.nps_chat.raw(id)\n",
    "    my_xml = ET.fromstring(chat)\n",
    "    for child in my_xml.iter('t'):\n",
    "        word_list.append(child.get('word'))\n",
    "npschat_word_set=set()\n",
    "for user in word_list:\n",
    "    if 'User' not in user:\n",
    "        npschat_word_set.add(user.lower());\n",
    "print(len(npschat_word_set))"
   ]
  },
  {
   "cell_type": "code",
   "execution_count": 95,
   "metadata": {
    "collapsed": false
   },
   "outputs": [
    {
     "name": "stdout",
     "output_type": "stream",
     "text": [
      "234377\n"
     ]
    }
   ],
   "source": [
    "# words from WordsList\n",
    "word_id=nltk.corpus.words.fileids()\n",
    "word_id\n",
    "words_list=[]\n",
    "for id  in word_id:\n",
    "    words=nltk.corpus.words.words(id)\n",
    "    for word in words:\n",
    "        words_list.append(word.lower())\n",
    "words_set=set(words_list)\n",
    "print(len(words_set))"
   ]
  },
  {
   "cell_type": "code",
   "execution_count": 96,
   "metadata": {
    "collapsed": false
   },
   "outputs": [
    {
     "name": "stdout",
     "output_type": "stream",
     "text": [
      "2698\n"
     ]
    }
   ],
   "source": [
    "# words not present in words-list\n",
    "final_word_set=set()\n",
    "for nps_chat in npschat_word_set:\n",
    "    if nps_chat not in words_set:\n",
    "        final_word_set.add(nps_chat)\n",
    "print(len(final_word_set))"
   ]
  },
  {
   "cell_type": "code",
   "execution_count": null,
   "metadata": {
    "collapsed": false
   },
   "outputs": [],
   "source": [
    "\n"
   ]
  }
 ],
 "metadata": {
  "kernelspec": {
   "display_name": "Python [conda root]",
   "language": "python",
   "name": "conda-root-py"
  },
  "language_info": {
   "codemirror_mode": {
    "name": "ipython",
    "version": 3
   },
   "file_extension": ".py",
   "mimetype": "text/x-python",
   "name": "python",
   "nbconvert_exporter": "python",
   "pygments_lexer": "ipython3",
   "version": "3.5.2"
  }
 },
 "nbformat": 4,
 "nbformat_minor": 1
}
