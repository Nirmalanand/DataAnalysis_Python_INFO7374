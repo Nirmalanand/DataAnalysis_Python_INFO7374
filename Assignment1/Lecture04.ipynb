{
 "cells": [
  {
   "cell_type": "markdown",
   "metadata": {},
   "source": [
    "# Iterations and Comprehensions"
   ]
  },
  {
   "cell_type": "code",
   "execution_count": 6,
   "metadata": {
    "collapsed": false
   },
   "outputs": [
    {
     "name": "stdout",
     "output_type": "stream",
     "text": [
      "1 4 9 16 1 8 27 64 ss pp aa mm "
     ]
    }
   ],
   "source": [
    "for x in [1, 2, 3, 4]: print(x ** 2, end=' ') #Exponential -**\n",
    "for x in (1, 2, 3, 4): print(x ** 3, end=' ')\n",
    "for x in 'spam': print(x * 2, end=' ')"
   ]
  },
  {
   "cell_type": "code",
   "execution_count": 3,
   "metadata": {
    "collapsed": false
   },
   "outputs": [
    {
     "data": {
      "text/plain": [
       "[11, 12, 13, 14, 15]"
      ]
     },
     "execution_count": 3,
     "metadata": {},
     "output_type": "execute_result"
    }
   ],
   "source": [
    "L = [1,2,3,4,5]\n",
    "for i in range(len(L)):\n",
    "    L[i] +=10\n",
    "L"
   ]
  },
  {
   "cell_type": "code",
   "execution_count": 4,
   "metadata": {
    "collapsed": false
   },
   "outputs": [
    {
     "name": "stdout",
     "output_type": "stream",
     "text": [
      "[21, 22, 23, 24, 25]\n"
     ]
    }
   ],
   "source": [
    "L = [x + 10 for x in L]\n",
    "print(L)"
   ]
  },
  {
   "cell_type": "code",
   "execution_count": 5,
   "metadata": {
    "collapsed": false
   },
   "outputs": [
    {
     "ename": "FileNotFoundError",
     "evalue": "[Errno 2] No such file or directory: 'myfile.py'",
     "output_type": "error",
     "traceback": [
      "\u001b[0;31m---------------------------------------------------------------------------\u001b[0m",
      "\u001b[0;31mFileNotFoundError\u001b[0m                         Traceback (most recent call last)",
      "\u001b[0;32m<ipython-input-5-61c911984dc4>\u001b[0m in \u001b[0;36m<module>\u001b[0;34m()\u001b[0m\n\u001b[0;32m----> 1\u001b[0;31m \u001b[0mlines\u001b[0m \u001b[1;33m=\u001b[0m \u001b[1;33m[\u001b[0m\u001b[0mline\u001b[0m\u001b[1;33m.\u001b[0m\u001b[0mrstrip\u001b[0m\u001b[1;33m(\u001b[0m\u001b[1;33m)\u001b[0m \u001b[1;32mfor\u001b[0m \u001b[0mline\u001b[0m \u001b[1;32min\u001b[0m \u001b[0mopen\u001b[0m\u001b[1;33m(\u001b[0m\u001b[1;34m'myfile.py'\u001b[0m\u001b[1;33m)\u001b[0m\u001b[1;33m]\u001b[0m\u001b[1;33m\u001b[0m\u001b[0m\n\u001b[0m\u001b[1;32m      2\u001b[0m \u001b[1;33m[\u001b[0m\u001b[0mline\u001b[0m\u001b[1;33m.\u001b[0m\u001b[0mrstrip\u001b[0m\u001b[1;33m(\u001b[0m\u001b[1;33m)\u001b[0m\u001b[1;33m.\u001b[0m\u001b[0mupper\u001b[0m\u001b[1;33m(\u001b[0m\u001b[1;33m)\u001b[0m \u001b[1;32mfor\u001b[0m \u001b[0mline\u001b[0m \u001b[1;32min\u001b[0m \u001b[0mopen\u001b[0m\u001b[1;33m(\u001b[0m\u001b[1;34m'myfile.py'\u001b[0m\u001b[1;33m)\u001b[0m\u001b[1;33m]\u001b[0m\u001b[1;33m\u001b[0m\u001b[0m\n",
      "\u001b[0;31mFileNotFoundError\u001b[0m: [Errno 2] No such file or directory: 'myfile.py'"
     ]
    }
   ],
   "source": [
    "lines = [line.rstrip() for line in open('myfile.py')]\n",
    "[line.rstrip().upper() for line in open('myfile.py')]"
   ]
  },
  {
   "cell_type": "code",
   "execution_count": null,
   "metadata": {
    "collapsed": true
   },
   "outputs": [],
   "source": [
    "lines = [line.rstrip() for line in open('myfile.py') if line[0] == 'p']"
   ]
  },
  {
   "cell_type": "code",
   "execution_count": null,
   "metadata": {
    "collapsed": true
   },
   "outputs": [],
   "source": [
    "res = [ord(x) for x in 'spam']    # [115, 112, 97, 109]\n",
    "[x ** 2 for x in range(10)]       # [0, 1, 4, 9, 16, 25, 36, 49, 64, 81]"
   ]
  },
  {
   "cell_type": "code",
   "execution_count": null,
   "metadata": {
    "collapsed": true
   },
   "outputs": [],
   "source": [
    "[x for x in range(5) if x % 2 == 0]    # [0, 2, 4]\n",
    "[x ** 2 for x in range(10) if x % 2 == 0] #  [0, 4, 16, 36, 64]"
   ]
  },
  {
   "cell_type": "code",
   "execution_count": null,
   "metadata": {
    "collapsed": true
   },
   "outputs": [],
   "source": [
    "'''\n",
    "Syntax : [ expression for target in iterable ]\n",
    "\n",
    "[ expression for target1 in iterable1 if condition1\n",
    "             for target2 in iterable2 if condition2 ...\n",
    "             for targetN in iterableN if conditionN ]\n",
    "'''"
   ]
  },
  {
   "cell_type": "code",
   "execution_count": null,
   "metadata": {
    "collapsed": true
   },
   "outputs": [],
   "source": [
    "res = [x + y for x in [0, 1, 2] for y in [100, 200, 300]]\n",
    "\n",
    "# [100, 200, 300, 101, 201, 301, 102, 202, 302]\n",
    "\n",
    "##OR (Both do the same function)\n",
    "\n",
    "res = []\n",
    "for x in [0, 1, 2]:\n",
    "    for y in [100, 200, 300]: \n",
    "        res.append(x + y)  "
   ]
  },
  {
   "cell_type": "code",
   "execution_count": null,
   "metadata": {
    "collapsed": true
   },
   "outputs": [],
   "source": [
    "[x + y for x in 'abc' for y in 'lmn']\n",
    "#['al','am','an','bl','bm','bn','cl','cm','cn']\n",
    "\n",
    "[x + y for x in 'spam' if x in 'sm' for y in 'SPAM' if y in ('P', 'A')]\n",
    "# ['sP', 'sA', 'mP', 'mA']\n",
    "\n",
    "[x + y + z  for x in 'spam' if x in 'sm'\n",
    "            for y in 'SPAM' if y in ('P', 'A')\n",
    "            for z in '123' if z > '1']\n",
    "#['sP2',sP3',..........]"
   ]
  },
  {
   "cell_type": "code",
   "execution_count": 7,
   "metadata": {
    "collapsed": false,
    "scrolled": true
   },
   "outputs": [
    {
     "name": "stdout",
     "output_type": "stream",
     "text": [
      "{0: 0, 1: 1, 2: 4, 3: 9, 4: 16, 5: 25, 6: 36, 7: 49, 8: 64, 9: 81}\n"
     ]
    }
   ],
   "source": [
    "d={x: x * x for x in range(10)}\n",
    "print(d)"
   ]
  },
  {
   "cell_type": "code",
   "execution_count": 18,
   "metadata": {
    "collapsed": false
   },
   "outputs": [
    {
     "data": {
      "text/plain": [
       "43"
      ]
     },
     "execution_count": 18,
     "metadata": {},
     "output_type": "execute_result"
    }
   ],
   "source": [
    "##Find words starting with a from Obama inagural address speech\n",
    "\n",
    "from nltk.corpus import inaugural\n",
    "words=inaugural.words('2009-Obama.txt')\n",
    "len(set([ x for x in words if x.startswith('a')]))\n",
    "##OR\n",
    "## Spandan\n",
    "##len(set([word for word in inaugural.words('2009-Obama.txt') if word.startswith('a')]))\n"
   ]
  },
  {
   "cell_type": "code",
   "execution_count": 39,
   "metadata": {
    "collapsed": false
   },
   "outputs": [
    {
     "data": {
      "text/plain": [
       "1519"
      ]
     },
     "execution_count": 39,
     "metadata": {},
     "output_type": "execute_result"
    }
   ],
   "source": [
    "## Find how many words are overlapping in austen-emma.txt and shakespeare-hamlet.txt\n",
    "\n",
    "import nltk\n",
    "emma = nltk.corpus.gutenberg.words('austen-emma.txt')\n",
    "ss= nltk.corpus.gutenberg.words('shakespeare-hamlet.txt')\n",
    "\n",
    "emma=set([word.lower() for word in emma])\n",
    "ss=set([word.lower() for word in ss])\n",
    "\n",
    "len(emma) - 7344\n",
    "len(ss)  - 4766\n",
    "\n",
    "#[word for word in emma if word in ss]\n",
    "len([word for word in ss if word in emma])"
   ]
  },
  {
   "cell_type": "markdown",
   "metadata": {},
   "source": [
    "## Generator Functions and Expressions"
   ]
  },
  {
   "cell_type": "code",
   "execution_count": 40,
   "metadata": {
    "collapsed": false
   },
   "outputs": [
    {
     "ename": "StopIteration",
     "evalue": "",
     "output_type": "error",
     "traceback": [
      "\u001b[0;31m---------------------------------------------------------------------------\u001b[0m",
      "\u001b[0;31mStopIteration\u001b[0m                             Traceback (most recent call last)",
      "\u001b[0;32m<ipython-input-40-d5c1cf6ae97f>\u001b[0m in \u001b[0;36m<module>\u001b[0;34m()\u001b[0m\n\u001b[1;32m      8\u001b[0m \u001b[0mnext\u001b[0m\u001b[1;33m(\u001b[0m\u001b[0mx\u001b[0m\u001b[1;33m)\u001b[0m       \u001b[1;31m# 4\u001b[0m\u001b[1;33m\u001b[0m\u001b[0m\n\u001b[1;32m      9\u001b[0m \u001b[0mnext\u001b[0m\u001b[1;33m(\u001b[0m\u001b[0mx\u001b[0m\u001b[1;33m)\u001b[0m       \u001b[1;31m# 9\u001b[0m\u001b[1;33m\u001b[0m\u001b[0m\n\u001b[0;32m---> 10\u001b[0;31m \u001b[0mnext\u001b[0m\u001b[1;33m(\u001b[0m\u001b[0mx\u001b[0m\u001b[1;33m)\u001b[0m       \u001b[1;31m#Error\u001b[0m\u001b[1;33m\u001b[0m\u001b[0m\n\u001b[0m\u001b[1;32m     11\u001b[0m \u001b[1;33m\u001b[0m\u001b[0m\n\u001b[1;32m     12\u001b[0m \u001b[1;33m\u001b[0m\u001b[0m\n",
      "\u001b[0;31mStopIteration\u001b[0m: "
     ]
    }
   ],
   "source": [
    "def gensquares(N):            #Generator Function\n",
    "    for i in range(N):\n",
    "        yield i ** 2          # Resume here later\n",
    "        \n",
    "x = gensquares(4)\n",
    "next(x)       # 0\n",
    "next(x)       # 1\n",
    "next(x)       # 4\n",
    "next(x)       # 9\n",
    "next(x)       #Error\n",
    "\n",
    "\n",
    "for i in gensquares(5): # Resume the function \n",
    "    print(i, end=' : ') # Print last yielded value"
   ]
  },
  {
   "cell_type": "code",
   "execution_count": null,
   "metadata": {
    "collapsed": true
   },
   "outputs": [],
   "source": [
    "[x ** 2 for x in range(4)]       # List comprehension: build a list\n",
    "\n",
    "(x ** 2 for x in range(4)) # Generator Expression: make an iterable\n",
    "list(x ** 2 for x in range(4))"
   ]
  },
  {
   "cell_type": "markdown",
   "metadata": {},
   "source": [
    "# Function Basics"
   ]
  },
  {
   "cell_type": "markdown",
   "metadata": {},
   "source": [
    "### Why use functions ?\n",
    "* Maximizing code reuse and minimizing redundancy\n",
    "* def is executable code\n",
    "* def creates an object and assigns it to a name\n",
    "* return sends a result object back to the caller\n",
    "* yield sends a result object back to the caller, but remembers where it left off\n",
    "* Arguments are passed by position, unless you say otherwise.\n",
    "* Arguments, return values, and variables are not declared"
   ]
  },
  {
   "cell_type": "code",
   "execution_count": null,
   "metadata": {
    "collapsed": true
   },
   "outputs": [],
   "source": [
    "'''\n",
    "Function defination :\n",
    "\n",
    "def name(arg1, arg2,... argN): ...\n",
    "    return value\n",
    "    \n",
    "Functions are  ##Below things are not possible in Java\n",
    "if test:\n",
    "    def func():\n",
    "... else:\n",
    "    def func(): ...\n",
    "        ... func()\n",
    "'''"
   ]
  },
  {
   "cell_type": "code",
   "execution_count": 41,
   "metadata": {
    "collapsed": false,
    "scrolled": true
   },
   "outputs": [
    {
     "ename": "SyntaxError",
     "evalue": "invalid syntax (<ipython-input-41-79bc3acb9305>, line 1)",
     "output_type": "error",
     "traceback": [
      "\u001b[0;36m  File \u001b[0;32m\"<ipython-input-41-79bc3acb9305>\"\u001b[0;36m, line \u001b[0;32m1\u001b[0m\n\u001b[0;31m    if input('user language:') = 'en' :\u001b[0m\n\u001b[0m                               ^\u001b[0m\n\u001b[0;31mSyntaxError\u001b[0m\u001b[0;31m:\u001b[0m invalid syntax\n"
     ]
    }
   ],
   "source": [
    "if input('user language:') = 'en' :\n",
    "    def helloworld():\n",
    "        print('Hello World')\n",
    "else:\n",
    "    def helloworld():\n",
    "        print('x008/x567/x786')\n",
    "        \n",
    "helloworld()\n",
    "    "
   ]
  },
  {
   "cell_type": "code",
   "execution_count": 43,
   "metadata": {
    "collapsed": false
   },
   "outputs": [
    {
     "name": "stdout",
     "output_type": "stream",
     "text": [
      "x008/x567/x786\n"
     ]
    }
   ],
   "source": [
    "def helloworld():\n",
    "        print('Hello World')\n",
    " \n",
    "def helloworld():\n",
    "        print('x008/x567/x786')\n",
    "        \n",
    "helloworld()"
   ]
  },
  {
   "cell_type": "code",
   "execution_count": 46,
   "metadata": {
    "collapsed": false
   },
   "outputs": [
    {
     "name": "stdout",
     "output_type": "stream",
     "text": [
      "8\n",
      "12.56\n"
     ]
    },
    {
     "data": {
      "text/plain": [
       "'NiNiNiNi'"
      ]
     },
     "execution_count": 46,
     "metadata": {},
     "output_type": "execute_result"
    }
   ],
   "source": [
    "def times(x, y): # Create and assign function ... \n",
    "    return x * y\n",
    "print(times(2, 4))\n",
    "x = times(3.14, 4)\n",
    "print (x)\n",
    "times('Ni', 4)"
   ]
  },
  {
   "cell_type": "code",
   "execution_count": 48,
   "metadata": {
    "collapsed": false
   },
   "outputs": [
    {
     "data": {
      "text/plain": [
       "['S', 'A', 'M']"
      ]
     },
     "execution_count": 48,
     "metadata": {},
     "output_type": "execute_result"
    }
   ],
   "source": [
    "def intersect(seq1, seq2): \n",
    "    res = []\n",
    "    for x in seq1:\n",
    "        if x in seq2:\n",
    "            res.append(x) \n",
    "    return res\n",
    "\n",
    "s1 = ['S','P','A','M']\n",
    "s2 = \"SCAM\"\n",
    "intersect(s1, s2)\n",
    "\n",
    "#OR\n",
    "\n",
    "[x for x in s1 if x in s2]"
   ]
  },
  {
   "cell_type": "code",
   "execution_count": 50,
   "metadata": {
    "collapsed": false
   },
   "outputs": [
    {
     "name": "stdout",
     "output_type": "stream",
     "text": [
      "(3, 4, 7)\n"
     ]
    }
   ],
   "source": [
    "def add(a,b):\n",
    "    return a,b,a+b\n",
    "   ## return [a,b,a+b] ## For list to be returned\n",
    "value=add(3,4)\n",
    "#OR\n",
    "value_1,value_2,value_sum=add(3,4)\n",
    "print(value) ##Tuple is returned\n"
   ]
  },
  {
   "cell_type": "markdown",
   "metadata": {},
   "source": [
    "# Scopes"
   ]
  },
  {
   "cell_type": "markdown",
   "metadata": {},
   "source": [
    "* If a variable is assigned inside a def, it is local to that function.\n",
    "* If a variable is assigned in an enclosing def, it is nonlocal to nested functions.\n",
    "* If a variable is assigned outside all defs, it is global to the entire file.\n",
    "* The global scope spans a single file only\n",
    "* Assigned names are local unless declared global or nonlocal\n",
    "* All other names are enclosing function locals, globals, or built-ins. \n",
    "* Each call to a function creates a new local scope"
   ]
  },
  {
   "cell_type": "markdown",
   "metadata": {},
   "source": [
    "### The LEGB Rule "
   ]
  },
  {
   "cell_type": "code",
   "execution_count": null,
   "metadata": {
    "collapsed": true
   },
   "outputs": [],
   "source": [
    "#LEGB - Local, Enclosed, Global, Built in\n",
    "\n",
    "X = 99              # Global scope\n",
    "def func(Y):\n",
    "    # Local scope\n",
    "    Z = X + Y\n",
    "    return Z\n",
    "\n",
    "func(1)             # func in module: result=100\n"
   ]
  },
  {
   "cell_type": "code",
   "execution_count": null,
   "metadata": {
    "collapsed": true
   },
   "outputs": [],
   "source": [
    "def hider():\n",
    "    open = 'spam' # Local variable, hides built-in here\n",
    "    ...\n",
    "    open('data.txt') # Error: this no longer opens a file in this scope!"
   ]
  },
  {
   "cell_type": "code",
   "execution_count": 51,
   "metadata": {
    "collapsed": false
   },
   "outputs": [
    {
     "name": "stdout",
     "output_type": "stream",
     "text": [
      "99\n",
      "88\n"
     ]
    }
   ],
   "source": [
    "X = 88          # Global X\n",
    "def func(): \n",
    "    X = 99      # Local X: hides global, but we want this here\n",
    "    print(X)\n",
    "func() #Prints 99 because X is local to that\n",
    "print(X)        # Prints 88: unchanged"
   ]
  },
  {
   "cell_type": "markdown",
   "metadata": {},
   "source": [
    "## Global Statement"
   ]
  },
  {
   "cell_type": "code",
   "execution_count": 52,
   "metadata": {
    "collapsed": false
   },
   "outputs": [
    {
     "name": "stdout",
     "output_type": "stream",
     "text": [
      "99\n"
     ]
    }
   ],
   "source": [
    "X = 88          # Global X\n",
    "def func(): \n",
    "    global X    # Global will fetch the global variable and in the next line it is overridden\n",
    "    X = 99      # Global X: outside def\n",
    "func() \n",
    "print(X)        # Prints 99"
   ]
  },
  {
   "cell_type": "code",
   "execution_count": null,
   "metadata": {
    "collapsed": true
   },
   "outputs": [],
   "source": [
    "y, z = 1, 2            # Global variables in module\n",
    "def all_global():\n",
    "    global x           # Declare globals assigned\n",
    "    x = y + z\n",
    "    \n",
    "    \n",
    "    \n",
    "# Note : try to define as less global variable as possible inside functions\n",
    "\n",
    "X = 99\n",
    "def func1():\n",
    "    global X \n",
    "    X = 88\n",
    "def func2(): \n",
    "    global X\n",
    "    X = 77\n",
    "    \n",
    "func1() #Prints 77\n",
    "func2() #Prints 77\n",
    "print(X) #Prints 77"
   ]
  },
  {
   "cell_type": "code",
   "execution_count": null,
   "metadata": {
    "collapsed": true
   },
   "outputs": [],
   "source": [
    "# first.py\n",
    "X = 99          # This code doesn't know about second.py\n",
    "\n",
    "# second.py\n",
    "import first \n",
    "print(first.X)  # OK: references a name in another file\n",
    "first.X = 88    # But changing it can be too subtle and implicit\n",
    "\n",
    "\n",
    "# A better way to do this :\n",
    "\n",
    "# first.py\n",
    "X = 99\n",
    "def setX(new): # Accessor make external changes explit\n",
    "    global X  # And can manage access in a single place\n",
    "    X = new\n",
    "\n",
    "# second.py\n",
    "import first \n",
    "first.setX(88)  # Call the function instead of changing directly"
   ]
  },
  {
   "cell_type": "code",
   "execution_count": null,
   "metadata": {
    "collapsed": true
   },
   "outputs": [],
   "source": [
    "var = 99        # Global variable == module attribute\n",
    "def local(): \n",
    "    var = 0\n",
    "def glob1(): \n",
    "    global var\n",
    "    var += 1\n",
    "def glob2(): \n",
    "    var = 0\n",
    "    import thismod  #Import the file you are already running.Similar to 'this' operator in Java\n",
    "    thismod.var += 1\n",
    "def glob3(): \n",
    "    var = 0\n",
    "    import sys\n",
    "    glob = sys.modules['thismod'] \n",
    "    glob.var += 1\n",
    "def test(): \n",
    "    print(var) \n",
    "    local(); glob1(); glob2(); glob3() \n",
    "    print(var)\n",
    "    \n",
    "import thismod\n",
    "thismod.test()      # 99 102\n",
    "thismod.var         #102"
   ]
  },
  {
   "cell_type": "markdown",
   "metadata": {},
   "source": [
    "## Nested Functions "
   ]
  },
  {
   "cell_type": "code",
   "execution_count": 53,
   "metadata": {
    "collapsed": false
   },
   "outputs": [
    {
     "name": "stdout",
     "output_type": "stream",
     "text": [
      "88\n"
     ]
    }
   ],
   "source": [
    "X = 99               # Global scope name: not used  ########LEGB rule is followed\n",
    "def f1(): \n",
    "    X = 88           # Enclosing def local\n",
    "    def f2(): \n",
    "        print(X)     # Reference made in nested def\n",
    "    f2() \n",
    "f1()                 # Prints 88: enclosing def local"
   ]
  },
  {
   "cell_type": "code",
   "execution_count": 54,
   "metadata": {
    "collapsed": false
   },
   "outputs": [
    {
     "name": "stdout",
     "output_type": "stream",
     "text": [
      "88\n"
     ]
    }
   ],
   "source": [
    "def f1(): \n",
    "    X = 88\n",
    "    def f2(): \n",
    "        print(X)\n",
    "    return f2\n",
    "action = f1() \n",
    "action()            # prints 88"
   ]
  },
  {
   "cell_type": "markdown",
   "metadata": {},
   "source": [
    "## Closures"
   ]
  },
  {
   "cell_type": "code",
   "execution_count": null,
   "metadata": {
    "collapsed": true
   },
   "outputs": [],
   "source": [
    "def maker(N):\n",
    "    def action(X):       # Make and return action\n",
    "        return X ** N    # action retains N from enclosing scope \n",
    "    return action\n",
    "f = maker(2)             # Pass 2 to argument N\n",
    "f(3)                     # 9\n",
    "f(4)                     # 16\n",
    "g = maker(3)\n",
    "g(4)                     # 64\n",
    "f(4)                     # 16"
   ]
  },
  {
   "cell_type": "code",
   "execution_count": null,
   "metadata": {
    "collapsed": true
   },
   "outputs": [],
   "source": [
    "def maker(N):\n",
    "    return lambda X: X ** N\n",
    "h = maker(3)\n",
    "h(4)                      # 64"
   ]
  },
  {
   "cell_type": "code",
   "execution_count": null,
   "metadata": {
    "collapsed": true
   },
   "outputs": [],
   "source": [
    "def func(): \n",
    "    x= 4\n",
    "    action = (lambda n: x ** n) \n",
    "    return action\n",
    "\n",
    "x = func() \n",
    "print(x(2))         # 16"
   ]
  },
  {
   "cell_type": "markdown",
   "metadata": {
    "collapsed": true
   },
   "source": [
    "## Non Local statement"
   ]
  },
  {
   "cell_type": "code",
   "execution_count": null,
   "metadata": {
    "collapsed": true
   },
   "outputs": [],
   "source": [
    "def tester(start):\n",
    "    state = start              # Referencing nonlocals works normally\n",
    "    def nested(label):\n",
    "        print(label, state)    # Remembers state in enclosing scope\n",
    "    return nested\n",
    "\n",
    "F = tester(0)\n",
    "F('spam')           # spam 0\n",
    "F('ham')            # ham 0"
   ]
  },
  {
   "cell_type": "code",
   "execution_count": null,
   "metadata": {
    "collapsed": true
   },
   "outputs": [],
   "source": []
  },
  {
   "cell_type": "code",
   "execution_count": null,
   "metadata": {
    "collapsed": true
   },
   "outputs": [],
   "source": []
  }
 ],
 "metadata": {
  "kernelspec": {
   "display_name": "Python [Root]",
   "language": "python",
   "name": "Python [Root]"
  },
  "language_info": {
   "codemirror_mode": {
    "name": "ipython",
    "version": 3
   },
   "file_extension": ".py",
   "mimetype": "text/x-python",
   "name": "python",
   "nbconvert_exporter": "python",
   "pygments_lexer": "ipython3",
   "version": "3.5.2"
  }
 },
 "nbformat": 4,
 "nbformat_minor": 0
}
