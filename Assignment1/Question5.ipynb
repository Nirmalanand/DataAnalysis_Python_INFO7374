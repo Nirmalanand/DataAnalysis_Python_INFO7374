{
 "cells": [
  {
   "cell_type": "markdown",
   "metadata": {
    "collapsed": false
   },
   "source": [
    "# Question 5"
   ]
  },
  {
   "cell_type": "code",
   "execution_count": 39,
   "metadata": {
    "collapsed": false
   },
   "outputs": [
    {
     "name": "stdout",
     "output_type": "stream",
     "text": [
      "['shakespeare-caesar.txt', 'shakespeare-hamlet.txt', 'shakespeare-macbeth.txt']\n"
     ]
    }
   ],
   "source": [
    "# Get shakespeare files list\n",
    "import nltk\n",
    "from operator import itemgetter\n",
    "from nltk.corpus import gutenberg\n",
    "guntenberg_file_list=gutenberg.fileids();\n",
    "shakespeare_list=[];\n",
    "for x in guntenberg_file_list:\n",
    "    if \"shakespeare\" in x:\n",
    "        shakespeare_list.append(x)\n",
    "print(shakespeare_list);"
   ]
  },
  {
   "cell_type": "code",
   "execution_count": 71,
   "metadata": {
    "collapsed": true
   },
   "outputs": [],
   "source": [
    "# Stop words and Punctuation\n",
    "from nltk.corpus import stopwords\n",
    "import string\n",
    "punctwords= set(string.punctuation)\n",
    "stopwords = set(stopwords.words('english'))"
   ]
  },
  {
   "cell_type": "code",
   "execution_count": null,
   "metadata": {
    "collapsed": false
   },
   "outputs": [],
   "source": []
  },
  {
   "cell_type": "code",
   "execution_count": 72,
   "metadata": {
    "collapsed": false
   },
   "outputs": [
    {
     "name": "stdout",
     "output_type": "stream",
     "text": [
      "37032\n",
      "[('haue', 406), ('Ham', 337), ('Lord', 293), ('shall', 259), ('thou', 256), ('King', 231), ('Enter', 225), ('Caesar', 192), ('vs', 183), ('thy', 175), ('thee', 174), ('know', 169), ('good', 165), ('Brutus', 162), ('Bru', 153), ('come', 151), ('would', 142), ('like', 142), ('selfe', 139), ('Macb', 137), ('man', 132), ('well', 126), ('vpon', 126), ('let', 122), ('may', 121), ('must', 116), ('hath', 115), ('say', 113), ('st', 110), ('th', 108), ('Cassi', 107), ('Ile', 106), ('yet', 104), ('see', 104), ('time', 103), ('make', 102), ('one', 101), ('heere', 100), ('speake', 100), ('Hamlet', 99), ('Let', 95), ('Hor', 95), ('vp', 91), ('doe', 89), ('Sir', 89), ('men', 87), ('mine', 86), ('Cassius', 85), ('much', 83), ('loue', 81)]\n"
     ]
    }
   ],
   "source": [
    "# Top 50 Shakes\n",
    "shake_wordcount={}\n",
    "total_words=[]\n",
    "for shakes_file in shakespeare_list:\n",
    "    shakes_words=nltk.corpus.gutenberg.words(shakes_file)\n",
    "    for shake_word in shakes_words:\n",
    "        if shake_word.isalpha():\n",
    "            if shake_word.lower() not in stopwords:\n",
    "                if shake_word not in punctwords:\n",
    "                    total_words.append(shake_word)\n",
    "print(len(total_words))\n",
    "shakes_dict={}\n",
    "for x in total_words:\n",
    "    if x not in shakes_dict:\n",
    "        shakes_dict[x]=1\n",
    "    else:\n",
    "        shakes_dict[x]+=1\n",
    "sorted_top_50_shakes=sorted(shakes_dict.items(), key=lambda x: x[1], reverse=True)[:50]\n",
    "print(sorted_top_50)"
   ]
  },
  {
   "cell_type": "code",
   "execution_count": 73,
   "metadata": {
    "collapsed": false
   },
   "outputs": [
    {
     "name": "stdout",
     "output_type": "stream",
     "text": [
      "175812\n",
      "[('Girl', 1755), ('Guy', 1659), ('like', 1580), ('girl', 1200), ('guy', 1086), ('know', 1020), ('get', 785), ('Yeah', 772), ('page', 723), ('Oh', 664), ('one', 642), ('Woman', 640), ('window', 630), ('Firefox', 602), ('cell', 577), ('open', 567), ('Teen', 550), ('man', 543), ('work', 528), ('Chick', 514), ('Man', 511), ('new', 506), ('go', 496), ('bar', 490), ('good', 488), ('think', 478), ('right', 477), ('want', 471), ('menu', 465), ('tab', 458), ('going', 451), ('Firebird', 437), ('boy', 428), ('Well', 416), ('time', 415), ('got', 402), ('really', 392), ('browser', 392), ('back', 388), ('button', 371), ('toolbar', 364), ('lady', 364), ('bookmarks', 352), ('would', 352), ('woman', 345), ('people', 345), ('dialog', 330), ('bookmark', 329), ('see', 328), ('file', 315)]\n"
     ]
    }
   ],
   "source": [
    "# Top 50 Web Text\n",
    "\n",
    "web_total_words=[]\n",
    "import nltk\n",
    "from nltk.corpus import webtext\n",
    "for web_file in webtext.fileids():\n",
    "    web_words=nltk.corpus.webtext.words(web_file)\n",
    "    for web_word in web_words:\n",
    "        if web_word.isalpha():\n",
    "            if web_word.lower() not in stopwords:\n",
    "                if web_word not in punctwords:\n",
    "                    web_total_words.append(web_word)\n",
    "print(len(web_total_words))\n",
    "web_dict={}\n",
    "for y in web_total_words:\n",
    "    if y not in web_dict:\n",
    "        web_dict[y]=1\n",
    "    else:\n",
    "        web_dict[y]+=1\n",
    "web_top_50=sorted(web_dict.items(), key=lambda x: x[1], reverse=True)[:50]\n",
    "print(web_top_50)\n"
   ]
  },
  {
   "cell_type": "code",
   "execution_count": 75,
   "metadata": {
    "collapsed": false
   },
   "outputs": [
    {
     "name": "stdout",
     "output_type": "stream",
     "text": [
      "Shakespheare words which are not used currently\n"
     ]
    },
    {
     "data": {
      "text/plain": [
       "[('haue', 406), ('Ham', 337), ('Lord', 293), ('shall', 259), ('thou', 256)]"
      ]
     },
     "execution_count": 75,
     "metadata": {},
     "output_type": "execute_result"
    }
   ],
   "source": [
    "#top 5 words that Shakespeare used but we do not use in currently\n",
    "shake_used_words={}\n",
    "for shake_word,shake_value in sorted_top_50_shakes:\n",
    "    if shake_word not in web_top_50:\n",
    "        shake_used_words[shake_word]=shake_value\n",
    "sort_shake_used_words= sorted(shake_used_words.items(), key=itemgetter(1), reverse=True) \n",
    "print('Shakespheare words which are not used currently')\n",
    "sort_shake_used_words[:5]\n",
    "    "
   ]
  }
 ],
 "metadata": {
  "anaconda-cloud": {},
  "kernelspec": {
   "display_name": "Python [conda root]",
   "language": "python",
   "name": "conda-root-py"
  },
  "language_info": {
   "codemirror_mode": {
    "name": "ipython",
    "version": 3
   },
   "file_extension": ".py",
   "mimetype": "text/x-python",
   "name": "python",
   "nbconvert_exporter": "python",
   "pygments_lexer": "ipython3",
   "version": "3.5.2"
  }
 },
 "nbformat": 4,
 "nbformat_minor": 1
}
