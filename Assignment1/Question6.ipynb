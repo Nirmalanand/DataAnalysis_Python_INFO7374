{
 "cells": [
  {
   "cell_type": "markdown",
   "metadata": {},
   "source": [
    "# Question 6"
   ]
  },
  {
   "cell_type": "code",
   "execution_count": 4,
   "metadata": {
    "collapsed": false
   },
   "outputs": [
    {
     "name": "stdout",
     "output_type": "stream",
     "text": [
      "{'Grant': ['1869-Grant.txt', '1873-Grant.txt'], 'VanBuren': ['1837-VanBuren.txt'], 'Taylor': ['1849-Taylor.txt'], 'Clinton': ['1993-Clinton.txt', '1997-Clinton.txt'], 'Pierce': ['1853-Pierce.txt'], 'Buchanan': ['1857-Buchanan.txt'], 'McKinley': ['1897-McKinley.txt', '1901-McKinley.txt'], 'Hayes': ['1877-Hayes.txt'], 'Monroe': ['1817-Monroe.txt', '1821-Monroe.txt'], 'Jefferson': ['1801-Jefferson.txt', '1805-Jefferson.txt'], 'Reagan': ['1981-Reagan.txt', '1985-Reagan.txt'], 'Garfield': ['1881-Garfield.txt'], 'Nixon': ['1969-Nixon.txt', '1973-Nixon.txt'], 'Bush': ['1989-Bush.txt', '2001-Bush.txt', '2005-Bush.txt'], 'Jackson': ['1829-Jackson.txt', '1833-Jackson.txt'], 'Coolidge': ['1925-Coolidge.txt'], 'Obama': ['2009-Obama.txt'], 'Kennedy': ['1961-Kennedy.txt'], 'Madison': ['1809-Madison.txt', '1813-Madison.txt'], 'Lincoln': ['1861-Lincoln.txt', '1865-Lincoln.txt'], 'Cleveland': ['1885-Cleveland.txt', '1893-Cleveland.txt'], 'Eisenhower': ['1953-Eisenhower.txt', '1957-Eisenhower.txt'], 'Harrison': ['1841-Harrison.txt', '1889-Harrison.txt'], 'Roosevelt': ['1905-Roosevelt.txt', '1933-Roosevelt.txt', '1937-Roosevelt.txt', '1941-Roosevelt.txt', '1945-Roosevelt.txt'], 'Carter': ['1977-Carter.txt'], 'Truman': ['1949-Truman.txt'], 'Polk': ['1845-Polk.txt'], 'Taft': ['1909-Taft.txt'], 'Adams': ['1797-Adams.txt', '1825-Adams.txt'], 'Hoover': ['1929-Hoover.txt'], 'Harding': ['1921-Harding.txt'], 'Johnson': ['1965-Johnson.txt'], 'Washington': ['1789-Washington.txt', '1793-Washington.txt'], 'Wilson': ['1913-Wilson.txt', '1917-Wilson.txt']}\n",
      "{'Grant': 855, 'Buchanan': 948, 'Taylor': 499, 'Clinton': 1138, 'Pierce': 1168, 'VanBuren': 1318, 'McKinley': 1682, 'Hayes': 832, 'Monroe': 1781, 'Jefferson': 1261, 'Reagan': 1453, 'Garfield': 1022, 'Taft': 1439, 'Truman': 781, 'Jackson': 846, 'Coolidge': 1221, 'Obama': 938, 'Kennedy': 570, 'Madison': 899, 'Lincoln': 1261, 'Cleveland': 1219, 'Eisenhower': 1250, 'Harrison': 2662, 'Roosevelt': 1704, 'Carter': 529, 'Bush': 1578, 'Polk': 1333, 'Nixon': 1037, 'Adams': 1503, 'Hoover': 1087, 'Harding': 1170, 'Johnson': 571, 'Washington': 663, 'Wilson': 996}\n"
     ]
    }
   ],
   "source": [
    "import nltk\n",
    "from nltk.corpus import inaugural\n",
    "presidents={}\n",
    "president_word_count={}\n",
    "for president in inaugural.fileids():\n",
    "    str=president[5:-4]\n",
    "    if str not in presidents.keys():\n",
    "        presidents.setdefault(str, [])\n",
    "        presidents[str].append(president)\n",
    "    else:\n",
    "        presidents[str].append(president)\n",
    "print(presidents)\n",
    "for key, value in presidents.items():\n",
    "    file_words=[]\n",
    "    words=set()\n",
    "    for value_list in value:\n",
    "        temp_words=[]\n",
    "        temp_words=nltk.corpus.inaugural.words(value_list)\n",
    "        for file_word in temp_words:\n",
    "            words.add(file_word)\n",
    "    president_word_count[key]=len(words)\n",
    "print(president_word_count)"
   ]
  },
  {
   "cell_type": "code",
   "execution_count": 9,
   "metadata": {
    "collapsed": false
   },
   "outputs": [
    {
     "name": "stdout",
     "output_type": "stream",
     "text": [
      "489\n",
      "553\n"
     ]
    }
   ],
   "source": [
    "words1=nltk.corpus.inaugural.words('1869-Grant.txt')\n",
    "print(len(set(words1)))\n",
    "words2=nltk.corpus.inaugural.words('1873-Grant.txt')\n",
    "print(len(set(words2)))"
   ]
  }
 ],
 "metadata": {
  "anaconda-cloud": {},
  "kernelspec": {
   "display_name": "Python [conda root]",
   "language": "python",
   "name": "conda-root-py"
  },
  "language_info": {
   "codemirror_mode": {
    "name": "ipython",
    "version": 3
   },
   "file_extension": ".py",
   "mimetype": "text/x-python",
   "name": "python",
   "nbconvert_exporter": "python",
   "pygments_lexer": "ipython3",
   "version": "3.5.2"
  }
 },
 "nbformat": 4,
 "nbformat_minor": 1
}
